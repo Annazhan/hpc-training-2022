{
 "cells": [
  {
   "cell_type": "code",
   "execution_count": 11,
   "metadata": {},
   "outputs": [
    {
     "name": "stdout",
     "output_type": "stream",
     "text": [
      "Model: \"sequential_3\"\n",
      "_________________________________________________________________\n",
      "Layer (type)                 Output Shape              Param #   \n",
      "=================================================================\n",
      "conv2d_6 (Conv2D)            (None, 26, 26, 16)        160       \n",
      "_________________________________________________________________\n",
      "conv2d_7 (Conv2D)            (None, 24, 24, 16)        2320      \n",
      "_________________________________________________________________\n",
      "max_pooling2d_3 (MaxPooling2 (None, 12, 12, 16)        0         \n",
      "_________________________________________________________________\n",
      "flatten_3 (Flatten)          (None, 2304)              0         \n",
      "_________________________________________________________________\n",
      "dense_6 (Dense)              (None, 32)                73760     \n",
      "_________________________________________________________________\n",
      "dense_7 (Dense)              (None, 10)                330       \n",
      "=================================================================\n",
      "Total params: 76,570\n",
      "Trainable params: 76,570\n",
      "Non-trainable params: 0\n",
      "_________________________________________________________________\n",
      "Train on 60000 samples, validate on 10000 samples\n",
      "Epoch 1/10\n",
      "60000/60000 [==============================] - 12s 194us/sample - loss: 1.9288 - acc: 0.5885 - val_loss: 1.6467 - val_acc: 0.8245\n",
      "Epoch 2/10\n",
      "60000/60000 [==============================] - 12s 200us/sample - loss: 1.6394 - acc: 0.8262 - val_loss: 1.6261 - val_acc: 0.8375\n",
      "Epoch 3/10\n",
      "60000/60000 [==============================] - 12s 203us/sample - loss: 1.6271 - acc: 0.8365 - val_loss: 1.6210 - val_acc: 0.8414\n",
      "Epoch 4/10\n",
      "60000/60000 [==============================] - 12s 200us/sample - loss: 1.6209 - acc: 0.8414 - val_loss: 1.6163 - val_acc: 0.8449\n",
      "Epoch 5/10\n",
      "60000/60000 [==============================] - 12s 198us/sample - loss: 1.6167 - acc: 0.8455 - val_loss: 1.6126 - val_acc: 0.8490\n",
      "Epoch 6/10\n",
      "60000/60000 [==============================] - 12s 201us/sample - loss: 1.6133 - acc: 0.8486 - val_loss: 1.6102 - val_acc: 0.8519\n",
      "Epoch 7/10\n",
      "60000/60000 [==============================] - 12s 198us/sample - loss: 1.6101 - acc: 0.8516 - val_loss: 1.6102 - val_acc: 0.8518\n",
      "Epoch 8/10\n",
      "60000/60000 [==============================] - 12s 198us/sample - loss: 1.6075 - acc: 0.8540 - val_loss: 1.6057 - val_acc: 0.8552\n",
      "Epoch 9/10\n",
      "60000/60000 [==============================] - 12s 197us/sample - loss: 1.6049 - acc: 0.8569 - val_loss: 1.6068 - val_acc: 0.8542\n",
      "Epoch 10/10\n",
      "60000/60000 [==============================] - 12s 196us/sample - loss: 1.6031 - acc: 0.8587 - val_loss: 1.6036 - val_acc: 0.8585\n",
      "10000/10000 [==============================] - 0s 36us/sample - loss: 1.6036 - acc: 0.8585\n"
     ]
    },
    {
     "data": {
      "text/plain": [
       "[1.603647580718994, 0.8585]"
      ]
     },
     "execution_count": 11,
     "metadata": {},
     "output_type": "execute_result"
    }
   ],
   "source": [
    "import warnings\n",
    "warnings.filterwarnings(\"ignore\")\n",
    "import tensorflow as tf\n",
    "import numpy as np\n",
    "tf.get_logger().setLevel('ERROR')\n",
    "\n",
    "#load and prepare data\n",
    "(x_train, y_train), (x_test, y_test) = tf.keras.datasets.mnist.load_data()\n",
    "x_train, x_test                      = x_train / 255.0, x_test / 255.0\n",
    "\n",
    "# Keras CNN expects N-3D images (ie 4D matrix) for CNN input\n",
    "x_train = x_train[:,:,:,np.newaxis]\n",
    "x_test  = x_test[:,:,:,np.newaxis]\n",
    "\n",
    "\n",
    "#specify the neural network model and learning parameters\n",
    "my_model = tf.keras.models.Sequential()\n",
    "\n",
    "#here I'm using the 'add' method to add layers one by one instead of a list \n",
    "#  argument to Sequential\n",
    "my_model.add(tf.keras.layers.Convolution2D(filters=16,  \n",
    "                                       kernel_size=(3, 3),\n",
    "                                       strides=1,  \n",
    "                                       data_format=\"channels_last\",\n",
    "                                       activation='relu', \n",
    "                                       input_shape=(28,28,1))) \n",
    "\n",
    "my_model.add(tf.keras.layers.Convolution2D(16, (3, 3), strides=1, data_format=\"channels_last\", activation='relu'))\n",
    "my_model.add(tf.keras.layers.MaxPooling2D(pool_size=(2,2),strides=2,data_format=\"channels_last\")) #get Max over 2D region,and slide\n",
    "my_model.add(tf.keras.layers.Flatten())            #reorganize 2DxFilters output into 1D\n",
    "\n",
    "#----------------Now add final classification layers\n",
    "my_model.add(tf.keras.layers.Dense(32, activation='relu'))  #enter number of hidden units (no good rule, but start with ~ num of previous output) \n",
    "my_model.add(tf.keras.layers.Dense(10, activation='softmax'))\n",
    "my_model.summary()\n",
    "#==========================================\n",
    "#my_model  = tf.keras.models.Sequential([\n",
    "#  tf.keras.layers.Flatten(input_shape=(28, 28)),\n",
    "#  tf.keras.layers.Dense(10)  ])\n",
    "loss      = tf.keras.losses.SparseCategoricalCrossentropy(from_logits=True)\n",
    "optimizer = tf.keras.optimizers.SGD(learning_rate=0.01) \n",
    "my_model.compile(optimizer=optimizer, loss=loss, metrics=['accuracy'])\n",
    "\n",
    "#fit the model   \n",
    "from tensorflow.keras.callbacks import EarlyStopping\n",
    "myES_function = EarlyStopping(monitor='val_loss', mode='min', patience=5) #patience before stopping\n",
    "   \n",
    "#------------ Now Run Training\n",
    "fit_history=my_model.fit(x_train, y_train,validation_data=(x_test,y_test), \n",
    "                         epochs=10, batch_size=32,verbose=1,callbacks=[myES_function])\n",
    "\n",
    "#evaluate the fit, plot training results, process the predictions\n",
    "my_model.evaluate(x_test, y_test)\n"
   ]
  },
  {
   "cell_type": "code",
   "execution_count": null,
   "metadata": {},
   "outputs": [],
   "source": []
  },
  {
   "cell_type": "code",
   "execution_count": 10,
   "metadata": {},
   "outputs": [
    {
     "name": "stdout",
     "output_type": "stream",
     "text": [
      "dict_keys(['loss', 'acc', 'val_loss', 'val_acc'])\n"
     ]
    },
    {
     "data": {
      "image/png": "[encoded data removed]",
      "text/plain": [
       "<Figure size 432x288 with 1 Axes>"
      ]
     },
     "metadata": {
      "needs_background": "light"
     },
     "output_type": "display_data"
    }
   ],
   "source": [
    "import matplotlib.pyplot as plt      #These provide matlab type of plotting functions\n",
    "%matplotlib inline                   \n",
    "\n",
    "    # list all data in history and print out performance\n",
    "print(fit_history.history.keys())\n",
    "\n",
    "# summarize history for accuracy\n",
    "plt.figure()\n",
    "plt.axis([0 ,len(fit_history.history['acc']), 0, 1])\n",
    "plt.plot(fit_history.history['acc'])\n",
    "plt.plot(fit_history.history['val_acc'])\n",
    "plt.title('model accuracy')\n",
    "plt.ylabel('accuracy')\n",
    "plt.xlabel('epoch')\n",
    "plt.legend(['train', 'val_test'], loc='upper left')\n",
    "plt.show()\n",
    "plt.savefig(\"model_fit_history.png\", bbox_inches='tight')\n"
   ]
  },
  {
   "cell_type": "code",
   "execution_count": 3,
   "metadata": {},
   "outputs": [
    {
     "name": "stdout",
     "output_type": "stream",
     "text": [
      "W3D shape Wlist[0]:(3, 3, 16)\n"
     ]
    },
    {
     "data": {
      "image/png": "[encoded data removed]",
      "text/plain": [
       "<Figure size 432x288 with 16 Axes>"
      ]
     },
     "metadata": {
      "needs_background": "light"
     },
     "output_type": "display_data"
    },
    {
     "name": "stdout",
     "output_type": "stream",
     "text": [
      "done plotting weights mosaic\n"
     ]
    },
    {
     "data": {
      "text/plain": [
       "<Figure size 432x288 with 0 Axes>"
      ]
     },
     "metadata": {},
     "output_type": "display_data"
    }
   ],
   "source": [
    "# ------------ GET WEIGHTS From Convolution Layer and make mosaic image \n",
    "Wlist   =my_model.layers[0].get_weights()      \n",
    "W3D     =np.squeeze(Wlist[0])\n",
    "print(\"W3D shape Wlist[0]:\"+str(W3D.shape))\n",
    "W3Dchan =W3D.swapaxes(1,2).swapaxes(0,1)  #get the channels as 1st dimension;\n",
    "\n",
    "#plot mosaic of filters of \n",
    "ncol =4\n",
    "nrow =np.ceil(16/ncol)   #assume 16 is number of filters\n",
    "plt.figure()\n",
    "for i in range(W3Dchan.shape[0]):\n",
    "   plt.subplot(nrow,ncol,i+1)\n",
    "   plt.imshow(W3Dchan[i],'gray')\n",
    "   plt.axis('off')\n",
    "\n",
    "plt.show()\n",
    "plt.savefig(\"filter_mosaic.png\", bbox_inches='tight')\n",
    "print('done plotting weights mosaic')"
   ]
  },
  {
   "cell_type": "code",
   "execution_count": 4,
   "metadata": {},
   "outputs": [
    {
     "name": "stdout",
     "output_type": "stream",
     "text": [
      "6 layers with output activations\n"
     ]
    }
   ],
   "source": [
    "#  ---------------- NOW Visualize the activations for the first training example --------\n",
    "#   1. gather activations from the model layers\n",
    "# -------------------------------------------------------------------------\n",
    "\n",
    "layer_outputs     = [layer.output for layer in my_model.layers[:]]\n",
    "my_model_actvtns  = tf.keras.models.Model(inputs=my_model.input, outputs=layer_outputs)\n",
    "x                 = np.expand_dims(x_train[0],0)           #set up a 4D input of 1 image training set \n",
    "my_actvtns_output = my_model_actvtns.predict(x)   #for each image get predictions/activatns\n",
    "\n",
    "print(str(len(my_actvtns_output))+ ' layers with output activations')\n",
    "\n"
   ]
  },
  {
   "cell_type": "code",
   "execution_count": 5,
   "metadata": {},
   "outputs": [
    {
     "data": {
      "image/png": "[encoded data removed]",
      "text/plain": [
       "<Figure size 432x288 with 16 Axes>"
      ]
     },
     "metadata": {
      "needs_background": "light"
     },
     "output_type": "display_data"
    },
    {
     "name": "stdout",
     "output_type": "stream",
     "text": [
      "done plotting layer1 activation output mosaic\n"
     ]
    },
    {
     "data": {
      "text/plain": [
       "<Figure size 432x288 with 0 Axes>"
      ]
     },
     "metadata": {},
     "output_type": "display_data"
    }
   ],
   "source": [
    "# 2.  Now output a mosaic of layer 1\n",
    "layeroutput3D      = np.squeeze(my_actvtns_output[0]) #<<---- -try different layer output     \n",
    "ncol =4\n",
    "nrow =np.ceil(16/ncol)\n",
    "plt.figure()\n",
    "for i in range(layeroutput3D.shape[2]):  \n",
    "   plt.subplot(nrow,ncol,i+1)\n",
    "   plt.imshow(layeroutput3D[:,:,i],'gray')\n",
    "   plt.axis('off')\n",
    "plt.show()\n",
    "plt.savefig(\"activation_mosaic.png\", bbox_inches='tight')\n",
    "print('done plotting layer1 activation output mosaic')\n"
   ]
  },
  {
   "cell_type": "code",
   "execution_count": null,
   "metadata": {},
   "outputs": [],
   "source": []
  }
 ],
 "metadata": {
  "kernelspec": {
   "display_name": "Python 3",
   "language": "python",
   "name": "python3"
  },
  "language_info": {
   "codemirror_mode": {
    "name": "ipython",
    "version": 3
   },
   "file_extension": ".py",
   "mimetype": "text/x-python",
   "name": "python",
   "nbconvert_exporter": "python",
   "pygments_lexer": "ipython3",
   "version": "3.6.9"
  }
 },
 "nbformat": 4,
 "nbformat_minor": 2
}
